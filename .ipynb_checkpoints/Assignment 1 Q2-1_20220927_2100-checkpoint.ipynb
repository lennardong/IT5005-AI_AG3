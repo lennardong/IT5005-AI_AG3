{
 "cells": [
  {
   "cell_type": "markdown",
   "metadata": {},
   "source": [
    "Group Name: AG 03.\n",
    "\n",
    "Student Name (Student ID):\n",
    "\n",
    "1. xxxx xxxxx (xxxxxxx)\n",
    "\n",
    "2. xxxx xxxxx (xxxxxxx)\n",
    "\n",
    "3. xxxx xxxxx (xxxxxxx)"
   ]
  },
  {
   "cell_type": "markdown",
   "metadata": {
    "id": "yZOz6Y_cLGOT"
   },
   "source": [
    "# Question 2\n",
    "\n",
    "## Introduction to question 2\n",
    "\n",
    "In the second question of this assignment, we will explore the use of local search in genome assembly.\n",
    "\n",
    "We will use local search to assemble (construct) a large part of the nucleotide sequence of the monkeypox virus, which has been downloaded from the National Center for Biotechnology Information in the United States. Please note that no additional or specialized knowledge of biology or bioinformatics is required for this assignment. (Actually, the technical specifics of bioinformatics have been adapted and simplified for the purposes of this computer science assignment, so if you are a biologist, please do not apply preexisting knowledge to solve the problem. Furthermore, you should not attempt to search up the genome on genomic databases to \"guess\" the actual sequence, since we are more interested in your coding methodology rather than your attempts at reproducing a known sequence.)\n",
    "\n",
    "This is an introductory computer science assignment and not a bioinformatics assignment; we are simply using bioinformatics as a use case to illustrate the applicability of local search to the natural sciences. Therefore, no knowledge of bioinformatics is assumed or required. In the paragraphs that follow, I will give a short crash course which will cover all the domain knowledge you will need to know in order to tackle this problem.  \n",
    "\n",
    "For technical reasons, when we analyze the nucleotide sequence (genome) of a virus, we usually cannot “read” it in one fell swoop. We have to read the genome in parts, because the genome is usually too long for the machine to read in a single sitting. To simplify things, a “read” is a single view of part of the genome; think of it as a SUBSTRING, a partial view of the whole genome. After we have generated multiple reads of a genome, we then have to “stitch”, or combine, the different reads of the genome together. This process of stitching up reads of a genome into the final sequence is known as genome assembly. However, the different reads of the genome cannot just be concatenated like usual string concatenation. It’s not a situation where you have one read, “Hello”, and another read, “World”, and all you need to do is concatenate both strings together to make “Hello World”. Among other reasons, there are two major reasons why you can’t do so:\n",
    "\n",
    "1. You do not know which read came first. The reads are not ordered. How do you know “Hello” came after “World”? The answer is that you don’t. Imagine how complicated this situation might be if you had more than two reads. (This is indeed our situation, where we have $n$ reads, and $n>>2$.)\n",
    "\n",
    "2. One read may contain a substring contained in another read. Specifically, without loss of generality, part of the ending $x$ characters of a read (i.e., suffix) might also be found in the starting $x$ positions (i.e., prefix) of another read.\n",
    "\n",
    "- A computer scientist usually creates opportunities from problems. While this may be a “problem” in that you just can’t concatenate two strings blindly, the fact that strings contain shared “substrings” is actually a very helpful clue that you can use to “join” strings together. \n",
    "\n",
    "- Note that the choice of the value of $x$ could be a hyperparameter decided by the computer scientist.\n",
    "\n",
    "## Your tasks\n",
    "\n",
    "In this part of the assignment, you will work with (simulated) reads that I have generated from the nucleotide sequence of the monkeypox virus. In reality, bioinformatics is far more complicated, but here we will work with a simplified situation. Your task is to examine the reads that I have provided for you, and from there “infer” the nucleotide sequence that might have produced those reads. \n",
    "\n",
    "The reads are provided in the csv file `data.csv` which simply provides a list of unique strings. Note that you should NOT assume any particular ordering of the strings in this dataframe. In fact, the strings have already been shuffled randomly. \n",
    "\n",
    "NOTE: You are not allowed to use `pandas` or any other libraries apart from the Python STL to load the csv file.\n",
    "\n",
    "### Task A (3 marks): \n",
    "\n",
    "Create a directed graph. The nodes in the graph are the strings in the list of reads. An edge should be drawn FROM read A TO read B if and only if a suffix (of length $x$) of read A is also a prefix (obviously, also of length $x$) of read B. For the purposes of the assignment, limit the value of $x$ to between 5 and 30, both inclusive. That is, to be clear, $5\\leq x\\leq 30$. The weight of an edge between read A and read B should be the NEGATED value of $x$, i.e. $-x$. \n",
    "\n",
    "In your Jupyter notebook, please report the number of edges in your graph. Provide a barplot or histogram which shows the number of edges with different weights or weight categories. In this task, you are free to use plotting libraries such as `matplotlib` or `seaborn` to plot this graph.\n",
    "\n",
    "As an example, if read A is \"TACTAGT\" and read B is \"TAGTCCCCT\", then an edge is drawn FROM read A TO read B (i.e., $A \\rightarrow B$) with weight of $-4$. This is because the 4-suffix \"TAGT\" is also the 4-prefix of read B; in other words, the last 4 characters of read A (a substring of length 4) overlap with the first 4 characters of read B (a substring of length 4).\n",
    "\n",
    "### Task B (7 marks): \n",
    "\n",
    "From Task A, you now have a graph which shows connections between reads based on how they overlap, in theory you could draw a path through the graph and thereby derive the full sequence (genome).\n",
    "\n",
    "Task B asks you to use local search method(s) to determine a path through this directed graph of strings. \n",
    "\n",
    "- You are expected to use simulated annealing and tune the relevant configuration settings and hyperparameters. The minimum requirement is to implement simulated annealing.\n",
    "\n",
    "- Explain tha rationale behind the choice of scheduling strategy and parameters.\n",
    "\n",
    "- However, you may also explore other search methods in addition to simulated annealing. Marks will be awarded for effort.\n",
    "\n",
    "Note the following constraints:\n",
    "\n",
    "1. The path has to go through each and every vertex exactly once. For computer scientists, this constraint is reminiscent of the \"Traveling Salesman's Problem\", except that unlike TSP, we should not need to go back to the starting vertex again. \n",
    "\n",
    "2. For the purposes of neighbor generation / action selection at each node, bear in mind that a path through the graph which minimizes the total number of nucleotides in the assembled sequence is the preferred path. To state that another way, the assembled sequence should be derived from a path that goes through EACH and EVERY vertex exactly once, however we want this assembled sequence to be AS SHORT AS POSSIBLE.\n",
    "\n",
    "3. You are not given the starting (source/origin) or ending (destination) vertex.\n",
    "\n",
    "4. For avoidance of ambiguity, no cycles are allowed. You must not visit a vertex more than once.\n",
    "\n",
    "5. You are not allowed to use any libraries apart from the Python Standard Library.\n",
    "No import statements which import libraries outside of the Python STL should be found within your answer for Task B.\n",
    "\n",
    "Please remember to report the assembled sequence that you obtain. Although it would be great if you can come up with a good sequence, please feel reassured that we are more interested in your APPROACH to the problem, and so you can potentially get a reasonable score on this task even if your solution is \"wrong\". It is the process, rather than the result, which matters more."
   ]
  },
  {
   "cell_type": "markdown",
   "metadata": {},
   "source": [
    "# Part 1 - Implementation of a graph structure of data.csv.\n",
    "\n",
    "Input Data: to be structured into a dictionary using {index:read_sequence} \n"
   ]
  },
  {
   "cell_type": "markdown",
   "metadata": {},
   "source": [
    "### Create Graph Object\n",
    "\n",
    "A graph object which is a dictionary of dictionaries is created.\n",
    "\n",
    "It follows the format:\n",
    "\n",
    "{\n",
    "A: {B: overlapScore, C: overlapScpre, ... }\n",
    "B: {D: overlapScore, F: overlapScpre, ... }\n",
    "C: {A: overlapScore, E: overlapScpre, ... }\n",
    "...\n",
    "}"
   ]
  },
  {
   "cell_type": "code",
   "execution_count": 161,
   "metadata": {},
   "outputs": [],
   "source": [
    "import copy\n",
    "from typing import Type\n",
    "\n",
    "class Graph:\n",
    "    \"\"\"\n",
    "    Taken from AIME4e, search.py\n",
    "    Modified to include __repr__.\n",
    "\n",
    "    A graph connects nodes (vertices) by edges (links). Each edge can also\n",
    "    have a length associated with it.\n",
    "    The constructor call is something like:\n",
    "        g = Graph({'A': {'B': 1, 'C': 2})\n",
    "    this makes a graph with 3 nodes, A, B, and C, with an edge of length 1 from\n",
    "    A to B,  and an edge of length 2 from A to C. You can also do:\n",
    "        g = Graph({'A': {'B': 1, 'C': 2}, directed=False)\n",
    "    This makes an undirected graph, so inverse links are also added. The graph\n",
    "    stays undirected; if you add more links with g.connect('B', 'C', 3), then\n",
    "    inverse link is also added. You can use g.nodes() to get a list of nodes,\n",
    "    g.get('A') to get a dict of links out of A, and g.get('A', 'B') to get the\n",
    "    length of the link from A to B. 'Lengths' can actually be any object at\n",
    "    all, and nodes can be any hashable object.\"\"\"\n",
    "\n",
    "    def __init__(self, graph_dict=None, directed=True):\n",
    "        self.graph_dict = graph_dict or {}\n",
    "        self.directed = directed\n",
    "        if not directed:\n",
    "            self.make_undirected()\n",
    "\n",
    "    def make_undirected(self):\n",
    "        \"\"\"Make a digraph into an undirected graph by adding symmetric edges.\"\"\"\n",
    "        for a in list(self.graph_dict.keys()):\n",
    "            for (b, dist) in self.graph_dict[a].items():\n",
    "                self.connect1(b, a, dist)\n",
    "\n",
    "    def connect(self, A, B, distance=1):\n",
    "        \"\"\"Add a link from A and B of given distance, and also add the inverse\n",
    "        link if the graph is undirected.\"\"\"\n",
    "        self.connect1(A, B, distance)\n",
    "        if not self.directed:\n",
    "            self.connect1(B, A, distance)\n",
    "\n",
    "    def connect1(self, A, B, distance):\n",
    "        \"\"\"Add a link from A to B of given distance, in one direction only.\"\"\"\n",
    "        self.graph_dict.setdefault(A, {})[B] = distance #🔴 What is setdefault?\n",
    "\n",
    "    def get(self, a, b=None):\n",
    "        \"\"\"Return a link distance or a dict of {node: distance} entries.\n",
    "        .get(a,b) returns the distance or None;\n",
    "        .get(a) returns a dict of {node: distance} entries, possibly {}.\"\"\"\n",
    "        links = self.graph_dict.setdefault(a, {})\n",
    "        if b is None:\n",
    "            return links\n",
    "        else:\n",
    "            return links.get(b)\n",
    "\n",
    "    def nodes(self):\n",
    "        \"\"\"Return a list of nodes in the graph.\"\"\"\n",
    "        s1 = set([k for k in self.graph_dict.keys()])\n",
    "        s2 = set([k2 for v in self.graph_dict.values() for k2, v2 in v.items()])\n",
    "        nodes = s1.union(s2)\n",
    "        return list(nodes)\n",
    "\n",
    "    def __repr__ (self):\n",
    "        print (self.graph_dict)\n",
    "\n"
   ]
  },
  {
   "cell_type": "markdown",
   "metadata": {},
   "source": [
    "### Extract CSV\n"
   ]
  },
  {
   "cell_type": "code",
   "execution_count": 162,
   "metadata": {},
   "outputs": [
    {
     "name": "stdout",
     "output_type": "stream",
     "text": [
      "[[0,\n",
      "  'CTTGAATTGGTTCCTGGTATCATTAGGATCTCTGTCTCTCAACATCTGTTTAAGTTCATCGAGAACCACCTCCTCATTTTCCAGATAGTCAAACATTTTGACTGAATAGAAGTGAATGAGCTACTGTGAACTCTATACACCCGCACAACTAATGTCATTAAATATCATTTTTGAATGTATTTATACCATGTCAAAAACTTGTACAATTATTAATAAAAATAATTAGTGTTTAAATTTTACCAGTTCCAGATTTTACACCTCCGTTAACACCTCCATTAACCCCACTTTTTACACCACTGGACGATCCTCCTCCCCACATTCCACTGCCACTAGATGTATAAGTTTTAGATCCTTTATTACTACCATCATGTCCATGGATAAAGACACTCCACATGCCGCCACTACTACCCCCT'],\n",
      " [1,\n",
      "  'ATCTTTAACGAACATATACCTAGATGGTTATTTACTAACAGACATTTTTTCAAGATCTATTGACAATAACTCCTATAGTTTCCACATCAACCAAGTAATGATCATCTATTGTTATATAACAATAACATAACTCTTTTCCATTTTTATCAGTATCTATATCAACGTCGTTGTAGTGAATAGTAGTCATTGATCTATTATATGAAACGGATATGTCTAGTTAATATTTTCTTTGATTTAAAGTCTATAGTCTTTACAAACATAATATCCTTATCCGACTTTATATTTCCTGTAGGGTGGCATAATTTTATTCTGCCTCCACAATCAGTGTTTCCAAATATATTACTAGACAATATTCCATATAGT'],\n",
      " [2,\n",
      "  'TTGTACATGTAATGATTTAAAATGTGTAGTCATGCTTATTGATAAAGATCTAAAAATTAAAGCGGGTCCTCGGTACGTGCTTAACGCTATTAGTCCTCATGCCTATGATGTTTTTAGAAAATCTAATAACTTGAAAGAGATAATAGAAAATGCAGCTAAACAAAATCTAGACTCTATATCTATTTCTGTTATGACTCCAATTAATCCCATGTTAGCGGAATCATGTGATTCTGTCAATAAGGCGTTTAAAAAATTTCCATCAGGAATGTTTGCGGAAGTCAAATACGATGGTGAAAGAGTACAAGTTCATAAAAAAAATAACGA'],\n",
      " [3,\n",
      "  'TACTAGATTTTATCTCTAGCGAGATTGTTTAGAATCATTTATCATAACTATGTTTAATAAATTCATCAACGAATATCGATAAAGACCTCTTGTAATTCGAGTATAGGAAGTAGTATTACCATATCAACTTCCGAGTTAACAATTACTCTAAAACATGAGGATTGTACTCCTGTCTTTATTGGAGATCACTATTTAGTCGTTGATAAACTAGTAACCTCAGGTTTCTTTACAAACGATAAAGTACAACATCAAGACCTCACAACACAGTGCAAGATTAATCTAGAAATCAAATGTAATTCTGGAGGAGA'],\n",
      " [4,\n",
      "  'CTGTCAGAAAATACCATCCAAGCCAATATCTTTACTTTTGTTCATCAGACGTTCCGGAAAGAGGTCCTCAGGTAGGTTTAGTATCTCAATTGTCTGTCTTGAGTTCCATTACAAATATACTAACGTCTGAGTATTTGGATTTGGAAAAGAAAATTTGTGAGTATATCAGATCATATTATAAAGATGATATAAGTTACTTTGAAACAGGATTTCCAATCACTATAGAAAATGCTCTAGTCGCATCTCTTAATCCAAATATGATATGTGATTTTGTAACTGACTTTAGACGTAGAAAACGGATGGGATTCTTCGGTAACT']]\n"
     ]
    }
   ],
   "source": [
    "import csv\n",
    "from pprint import pprint\n",
    "\n",
    "# Import the data, discarding column 2 because its similar to column 1\n",
    "data_reads = [] \n",
    "with open ('data.csv', 'r') as csv_file:\n",
    "    for line in csv.reader(csv_file, delimiter=','):\n",
    "        data_reads.append([line[0],line[2]])\n",
    "#print (data)\n",
    "\n",
    "data_reads = [[int(row[0]), row[1]] for row in data_reads[1:]] #discard the header row, convert types\n",
    "\n",
    "\"\"\"\n",
    "Test and Debug\n",
    "\"\"\"\n",
    "pprint (data_reads[:5])\n"
   ]
  },
  {
   "cell_type": "markdown",
   "metadata": {},
   "source": [
    "### Generate Directed Graph\n",
    "\n",
    "A function called overlap is created to generate a graph."
   ]
  },
  {
   "cell_type": "code",
   "execution_count": 163,
   "metadata": {},
   "outputs": [
    {
     "name": "stdout",
     "output_type": "stream",
     "text": [
      "0 : {224: 16, 302: 5}\n",
      "1 : {228: 18, 344: 6, 511: 5}\n",
      "2 : {223: 22}\n",
      "3 : {355: 24, 548: 5}\n",
      "4 : {436: 17}\n",
      "5 : {185: 15, 102: 5, 156: 5}\n",
      "6 : {433: 12, 22: 7, 485: 7}\n",
      "7 : {231: 25}\n",
      "8 : {590: 23, 256: 6}\n",
      "9 : {43: 20}\n"
     ]
    }
   ],
   "source": [
    "import copy\n",
    "\n",
    "def overlap(readlist: list): # takes\n",
    "    \"\"\"Returns a directed graph of overlap scores for a genome list\n",
    "\n",
    "    Inputs\n",
    "    - readlist: the csv in list format [id: 'genome seq']\n",
    "    - graph_output: a Graph() object instance\n",
    "    \"\"\"\n",
    "    graph_output = Graph()\n",
    "    list_check = copy.deepcopy(readlist)\n",
    "\n",
    "    while list_check:\n",
    "        line_check = list_check.pop()\n",
    "        for num_characters in reversed(range(5,31)):\n",
    "            idx_matched = []\n",
    "            suffix = line_check[1][-num_characters:]\n",
    "            for idx, line_reads in enumerate(readlist):\n",
    "                prefix = line_reads[1][:num_characters]\n",
    "                # print (f'CheckID{line_check[0]}, ReadID: {idx}, suffix: {suffix}, prefix: {prefix}')\n",
    "                if (suffix == prefix) and (idx not in idx_matched):\n",
    "                    graph_output.connect(line_check[0], line_reads[0], num_characters)\n",
    "                    idx_matched.append(idx)\n",
    "\n",
    "    return graph_output\n",
    "\n",
    "LOOKUP_GRAPH = overlap(data_reads)\n",
    "\n",
    "\n",
    "\"\"\"\n",
    "DEBUG AND TESTING\n",
    "\"\"\"\n",
    "for node in LOOKUP_GRAPH.nodes()[:10]:\n",
    "    print (f'{node} : {LOOKUP_GRAPH.get(node)}')\n"
   ]
  },
  {
   "cell_type": "markdown",
   "metadata": {},
   "source": [
    "## Plotting\n",
    "Simple histogram to see distribution of overlap # and count"
   ]
  },
  {
   "cell_type": "code",
   "execution_count": 164,
   "metadata": {},
   "outputs": [
    {
     "data": {
      "image/png": "[encoded data removed]",
      "text/plain": [
       "<Figure size 720x360 with 1 Axes>"
      ]
     },
     "metadata": {
      "needs_background": "light"
     },
     "output_type": "display_data"
    },
    {
     "data": {
      "text/plain": [
       "'\\nDEBUGGING AND CHECK\\n'"
      ]
     },
     "execution_count": 164,
     "metadata": {},
     "output_type": "execute_result"
    }
   ],
   "source": [
    "import matplotlib.pyplot as plt\n",
    "# matplotlib.rcParams.update(_VSCode_defaultMatplotlib_Params) #force matplotlib to print white\n",
    "\n",
    "histogram = {} #value: count\n",
    "\n",
    "for node in LOOKUP_GRAPH.nodes():\n",
    "    adjacencies = LOOKUP_GRAPH.get(node)\n",
    "    for item, overlap in adjacencies.items():\n",
    "        #check if present\n",
    "        if histogram.get(overlap):\n",
    "            histogram[overlap] += 1\n",
    "        else:\n",
    "            histogram[overlap] = 1\n",
    "\n",
    "overlap_labels = list(histogram.keys())\n",
    "overlap_counts = list(histogram.values())\n",
    "\n",
    "fig = plt.figure(figsize = (10, 5))\n",
    "plt.bar(overlap_labels, overlap_counts, color = 'black')\n",
    "plt.show()\n",
    "\n",
    "\"\"\"\n",
    "DEBUGGING AND CHECK\n",
    "\"\"\"\n",
    "# pprint (histogram)\n"
   ]
  },
  {
   "cell_type": "markdown",
   "metadata": {},
   "source": [
    "# Part 2 - Implementation of Local Seach using Simulated Annealing\n",
    "\n",
    "## Problem Class"
   ]
  },
  {
   "cell_type": "code",
   "execution_count": 165,
   "metadata": {},
   "outputs": [],
   "source": [
    "class Problem(object):\n",
    "    \"\"\"The abstract class for a search problem.\"\"\"\n",
    "\n",
    "    def __init__(self, initial=None, goals=(), **additional_keywords): #🔴can be refactored to be shorter\n",
    "        \"\"\"Provide an initial state and optional goal states.\n",
    "        A subclass can have additional keyword arguments.\"\"\"\n",
    "        self.initial = initial  # The initial state of the problem.\n",
    "        self.goals = goals      # A collection of possible goal states.\n",
    "        self.__dict__.update(**additional_keywords) ##DUNDER dict, any new initializations go here\n",
    "\n",
    "    def actions(self, state):\n",
    "        \"\"\"Return a list of actions executable in this state.\"\"\"\n",
    "        raise NotImplementedError # Override this!\n",
    "\n",
    "    def result(self, state, action):\n",
    "        \"The state that results from executing this action in this state.\"\n",
    "        raise NotImplementedError # Override this!\n",
    "\n",
    "    def is_goal(self, state):\n",
    "        \"True if the state is a goal.\"\n",
    "        return state in self.goals # Optionally override this!\n",
    "\n",
    "    def action_cost(self, state, action, result=None):\n",
    "        \"The cost of taking this action from this state.\"\n",
    "        return 1 # Override this if actions have different costs"
   ]
  },
  {
   "cell_type": "markdown",
   "metadata": {},
   "source": [
    "## TSP Subclass"
   ]
  },
  {
   "cell_type": "code",
   "execution_count": 166,
   "metadata": {},
   "outputs": [
    {
     "name": "stdout",
     "output_type": "stream",
     "text": [
      "43\n",
      "[189, 190, 191, 314, 42, 490, 475, 398, 35, 210, 156, 548, 34, 33, 298, 5, 4, 77, 555, 193, 9, 378, 106, 105, 89, 557, 535, 258, 257, 246, 576, 2, 3, 196, 74, 161, 491, 472, 135, 45, 46, 533, 433, 151, 524, 523, 165, 536, 561, 93, 547, 131, 446, 182, 44, 43, 78, 496, 373, 152, 251, 254, 545, 544, 543, 326, 327, 67, 166, 530, 158, 451, 450, 286, 230, 275, 274, 124, 141, 140, 322, 180, 260, 580, 367, 442, 478, 256, 247, 449, 408, 214, 406, 301, 469, 468, 467, 345, 218, 392, 300, 425, 424, 264, 265, 595, 596, 163, 187, 308, 509, 409, 470, 379, 118, 127, 412, 411, 410, 532, 542, 526, 527, 420, 293, 117, 29, 55, 443, 28, 70, 455, 456, 457, 279, 232, 233, 128, 192, 389, 388, 194, 464, 465, 586, 485, 304, 303, 570, 252, 445, 229, 441, 136, 315, 150, 145, 241, 26, 25, 24, 48, 94, 95, 115, 114, 363, 558, 181, 495, 559, 489, 348, 347, 339, 267, 266, 551, 242, 447, 12, 434, 197, 132, 567, 566, 487, 271, 66, 454, 494, 381, 380, 550, 53, 263, 510, 17, 16, 15, 323, 575, 239, 325, 334, 333, 21, 396, 13, 39, 79, 512, 497, 200, 569, 432, 431, 438, 107, 462, 493, 317, 463, 138, 84, 429, 428, 427, 541, 540, 413, 414, 312, 335, 452, 157, 402, 394, 393, 337, 253, 585, 474, 473, 531, 336, 1, 126, 482, 556, 86, 85, 476, 453, 437, 183, 184, 146, 97, 96, 237, 320, 255, 546, 130, 137, 268, 80, 201, 511, 504, 503, 58, 488, 6, 343, 23, 289, 288, 310, 215, 284, 321, 477, 386, 385, 507, 435, 330, 176, 177, 513, 31, 30, 243, 129, 205, 342, 508, 357, 422, 358, 32, 371, 372, 198, 261, 164, 554, 61, 60, 220, 221, 534, 63, 592, 593, 594, 584, 340, 341, 91, 92, 444, 162, 213, 564, 563, 560, 188, 186, 306, 305, 225, 573, 502, 331, 309, 351, 234, 316, 597, 399, 98, 147, 154, 120, 119, 38, 359, 360, 102, 168, 236, 583, 217, 216, 350, 591, 537, 538, 572, 59, 206, 207, 208, 209, 36, 426, 458, 228, 401, 492, 219, 361, 103, 54, 395, 160, 159, 299, 276, 212, 483, 291, 56, 22, 307, 170, 419, 273, 123, 122, 590, 521, 522, 423, 332, 14, 202, 370, 459, 460, 461, 565, 552, 280, 382, 553, 172, 231, 287, 75, 76, 369, 562, 539, 324, 439, 224, 223, 204, 589, 391, 47, 397, 283, 175, 68, 104, 471, 195, 377, 376, 375, 374, 440, 404, 403, 549, 415, 400, 41, 417, 418, 272, 352, 64, 65, 8, 69, 244, 245, 110, 109, 269, 390, 7, 112, 277, 515, 281, 179, 178, 514, 171, 259, 49, 81, 318, 353, 83, 486, 416, 144, 262, 383, 99, 292, 285, 498, 499, 500, 501, 407, 153, 87, 240, 574, 27, 368, 222, 18, 19, 62, 149, 148, 142, 88, 73, 516, 517, 518, 250, 235, 270, 313, 311, 346, 338, 297, 356, 295, 116, 479, 211, 506, 155, 529, 203, 587, 238, 133, 484, 139, 185, 578, 579, 329, 10, 384, 100, 101, 167, 387, 430, 296, 571, 505, 481, 480, 294, 111, 278, 525, 37, 169, 82, 57, 143, 50, 51, 249, 248, 173, 125, 174, 355, 354, 421, 362, 577, 405, 52, 290, 349, 520, 519, 11, 466, 344, 328, 90, 568, 588, 319, 134, 72, 71, 581, 366, 365, 364, 113, 121, 528, 108, 582, 436, 448, 302, 199, 40, 226, 227, 282, 0, 20, 598]\n"
     ]
    }
   ],
   "source": [
    "# Code to generate neighbours, value of states, etc.\n",
    "import random\n",
    "\n",
    "class TSP(Problem):\n",
    "    #Implement TSP class here\n",
    "    def __int__(self, initial: list = None, lookup_graph: type[Graph] = None, swops: int = 1):\n",
    "        \"\"\"\n",
    "        Inputs\n",
    "        - swops - an integer indicating the number of pair swops\n",
    "        - lookup_graph: a Graph() object instance that is related to `initial`\n",
    "        - initial - a list indicating the sequence of steps through a problem\n",
    "        \"\"\"\n",
    "        super().__init__(initial)\n",
    "        self.lookup_graph = lookup_graph\n",
    "        self.swops = swops\n",
    "\n",
    "    def N_opt(self, state: list) -> list:\n",
    "        '''Neighbour generating function for Traveling Salesman Problem\n",
    "\n",
    "        Inputs\n",
    "            List - the current node sequence as a list\n",
    "        '''\n",
    "        state2 = state[:]\n",
    "        for _ in range(self.swops):\n",
    "            l = random.randint(0, len(state2) - 1)\n",
    "            r = random.randint(0, len(state2) - 1)\n",
    "            if l > r:\n",
    "                l, r = r,l\n",
    "            state2[l : r + 1] = reversed(state2[l : r + 1])\n",
    "        return state2\n",
    "\n",
    "    def actions (self, state: list) -> list:\n",
    "        \"\"\"Returns a list of STATES that can follow from present state\n",
    "        \"\"\"\n",
    "        return [self.N_opt]\n",
    "\n",
    "    def result(self, state: list, action: list) -> list:\n",
    "        \"\"\" Returns a list with new sequence through a graph\n",
    "        \"\"\"\n",
    "        return action(state)\n",
    "\n",
    "    def path_cost(self, state: list) -> int:\n",
    "        '''Returns total overlapping score. In general, higher = better\n",
    "        e.g. score 100 indicates a total of 100 characters have been overlapped.\n",
    "\n",
    "        Inputs\n",
    "            path_list - list of steps taken through graph\n",
    "            lookup - overlap lookup graph of genome fragments\n",
    "        '''\n",
    "        res = 0\n",
    "        for i in range(len(state) -1):\n",
    "            n = state[i]\n",
    "            n1 = state[i+1]\n",
    "            score_word = self.lookup_graph.get(n, n1)\n",
    "            if score_word is not None:\n",
    "                res += score_word\n",
    "        return res\n",
    "\n",
    "    def value(self, state: list) -> int:\n",
    "        \"\"\" Returns negative value of the path cost\"\"\"\n",
    "        return -1 * self.path_cost(state)\n",
    "\n",
    "\n",
    "\"\"\"\n",
    "Debug and Testing\n",
    "\"\"\"\n",
    "\n",
    "tsp_problem = TSP(LOOKUP_GRAPH.nodes(), lookup_graph = LOOKUP_GRAPH, swops=500)\n",
    "print (tsp_problem.path_cost(tsp_problem.initial))\n",
    "print (tsp_problem.N_opt(tsp_problem.initial))\n",
    "\n"
   ]
  },
  {
   "cell_type": "markdown",
   "metadata": {},
   "source": [
    "## Node Class"
   ]
  },
  {
   "cell_type": "code",
   "execution_count": 167,
   "metadata": {},
   "outputs": [],
   "source": [
    "# Use the following Node class to generate search tree\n",
    "import math\n",
    "class Node:\n",
    "    \"\"\"A node in a search tree. Contains a pointer to the parent (the node\n",
    "    that this is a successor of) and to the actual state for this node. Note\n",
    "    that if a state is arrived at by two paths, then there are two nodes with\n",
    "    the same state. Also includes the action that got us to this state, and\n",
    "    the total path_cost (also known as g) to reach the node. Other functions\n",
    "    may add an f and h value; see best_first_graph_search and astar_search for\n",
    "    an explanation of how the f and h values are handled. You will not need to\n",
    "    subclass this class.\"\"\"\n",
    "\n",
    "    def __init__(self, state, parent=None, action=None, path_cost=0):\n",
    "        \"\"\"Create a search tree Node, derived from a parent by an action.\"\"\"\n",
    "        self.state = state\n",
    "        self.parent = parent\n",
    "        self.action = action\n",
    "        self.path_cost = path_cost\n",
    "        self.depth = 0\n",
    "        if parent:\n",
    "            self.depth = parent.depth + 1\n",
    "\n",
    "    def __repr__(self):\n",
    "        return \"<Node {}>\".format(self.state)\n",
    "\n",
    "    def __lt__(self, node):\n",
    "        return self.state < node.state\n",
    "\n",
    "    def expand(self, problem):\n",
    "        \"\"\"List the nodes reachable in one step from this node.\"\"\"\n",
    "        return [self.child_node(problem, action)\n",
    "                for action in problem.actions(self.state)]\n",
    "\n",
    "    def child_node(self, problem, action):\n",
    "        \"\"\"[Figure 3.10]\"\"\"\n",
    "        next_state = problem.result(self.state, action)\n",
    "        next_node = Node(next_state, self, action, problem.path_cost(self.state)) #🔴 potential to log all the temperature, etc here\n",
    "        return next_node\n",
    "\n",
    "    def solution(self):\n",
    "        \"\"\"Return the sequence of actions to go from the root to this node.\"\"\"\n",
    "        return [node.action for node in self.path()[1:]]\n",
    "\n",
    "    def path(self):\n",
    "        \"\"\"Return a list of nodes forming the path from the root to this node.\"\"\"\n",
    "        node, path_back = self, []\n",
    "        while node:\n",
    "            path_back.append(node)\n",
    "            node = node.parent\n",
    "        return list(reversed(path_back))\n"
   ]
  },
  {
   "cell_type": "markdown",
   "metadata": {},
   "source": [
    "## Simulated Annealing Definition\n",
    "\n",
    "Calculates total overlap score. Higher is better."
   ]
  },
  {
   "cell_type": "code",
   "execution_count": 168,
   "metadata": {},
   "outputs": [
    {
     "name": "stdout",
     "output_type": "stream",
     "text": [
      "Input probability is 0.25. Out of 100 tries, there are 14 \"Trues\"\n",
      "<class 'dict'>\n",
      "dict_keys(['temp', 'accp', 'delt', 'step', 'scor', 'prob', 'state'])\n",
      "<class '__main__.TSP'>\n",
      "<__main__.TSP object at 0x7fb1fde658b0>\n",
      "dict_keys(['temp', 'accp', 'delt', 'step', 'scor', 'prob', 'state'])\n",
      "1000\n"
     ]
    }
   ],
   "source": [
    "import random\n",
    "\n",
    "#HELPER FUNCTIONS\n",
    "def probability(prob: float) -> bool:\n",
    "    \"\"\" returns a bool based on probability\n",
    "\n",
    "    Inputs:\n",
    "        prob:  should be a number between 0 - 1.0\n",
    "        e.g. `prob` = 0.25 -> 25% probability of returning TRUE\n",
    "    \"\"\"\n",
    "    return random.uniform(0.0,1.0) < prob\n",
    "\n",
    "def scheduler(stp_max: int = 1000, power: int = 1, tmp_max: float = 100.0, tmp_min: float = 1.0) -> list:\n",
    "    \"\"\" Returns a list of temperatures to be used\n",
    "\n",
    "    Inputs:\n",
    "        power : Nth power of Power-N curve\n",
    "        stp_max: number of steps.\n",
    "        tmp_max = max temperature. arbitrarily at 100\n",
    "        tmp_min = min temperature. currently at 1.0\n",
    "    \"\"\"\n",
    "    ''' Initialize '''\n",
    "    stp_current = 1\n",
    "    stp_max = stp_max + 1\n",
    "    tmp_range = tmp_max - tmp_min\n",
    "    tmp = []\n",
    "\n",
    "    while stp_current < stp_max:\n",
    "        '''Power-N Curve Cooling'''\n",
    "        tmp_current = tmp_min + tmp_range * ((stp_max - stp_current) / stp_max) ** power\n",
    "\n",
    "        '''update variables'''\n",
    "        tmp.append(tmp_current)\n",
    "        stp_current += 1\n",
    "    return tmp\n",
    "\n",
    "\n",
    "def simulated_annealing_full(problem, sch_steps: int = 1000, sch_power: int = 2, n_swops: int = 1):\n",
    "    solution_tree_current = Node(problem.initial) #initialize the solution tree\n",
    "    temp_schedule = scheduler(stp_max = sch_steps, power = sch_power)\n",
    "    state_log = []\n",
    "    step = 0\n",
    "\n",
    "    #create logging\n",
    "    log = {}\n",
    "    log['temp'] = []\n",
    "    log['accp'] = []\n",
    "    log['delt'] = []\n",
    "    log['step'] = []\n",
    "    log['scor'] = []\n",
    "    log['prob'] = []\n",
    "    log['state'] = []\n",
    "\n",
    "    \"\"\"Run simulated annealing process\"\"\"\n",
    "    while temp_schedule:\n",
    "        temp = temp_schedule.pop(0)\n",
    "\n",
    "        \"\"\"Generate next and evaluate\"\"\"\n",
    "        solution_tree_next = random.choice(solution_tree_current.expand(problem))\n",
    "        energy_current = problem.value(solution_tree_current.state)\n",
    "        energy_next = problem.value(solution_tree_next.state)\n",
    "        energy_delta = energy_current - energy_next #recall, this is flipped\n",
    "\n",
    "        if energy_delta < 0:\n",
    "            probablity_score = (math.e ** (energy_delta / temp))\n",
    "            accept = probability(probablity_score)\n",
    "        else:\n",
    "            probablity_score = 1\n",
    "            accept = True\n",
    "\n",
    "        \"\"\"Update for next cycle\"\"\"\n",
    "        if accept:\n",
    "            solution_tree_current = solution_tree_next\n",
    "\n",
    "        \"\"\"LOGGING\"\"\"\n",
    "        step += 1\n",
    "        state_log.append(solution_tree_current.state)\n",
    "        log['temp'].append(temp)\n",
    "        log['accp'].append(accept)\n",
    "        log['delt'].append(energy_delta)\n",
    "        log['step'].append(step)\n",
    "        log['prob'].append(probablity_score)\n",
    "        log['scor'].append(problem.path_cost(solution_tree_current.state))\n",
    "        log['state'].append(solution_tree_current.state)\n",
    "\n",
    "    return log\n",
    "\n",
    "'''\n",
    "Debugging & Testing\n",
    "'''\n",
    "\n",
    "#test for Probability.\n",
    "count_true = 0\n",
    "prob = 0.25\n",
    "for i in range(100):\n",
    "    count_true += probability (prob)\n",
    "print (f'Input probability is {prob}. Out of 100 tries, there are {count_true} \"Trues\"')\n",
    "\n",
    "#test for simulated anneal\n",
    "states = simulated_annealing_full(tsp_problem)\n",
    "print (type(states))\n",
    "print (states.keys())\n",
    "print (type(tsp_problem))\n",
    "\n",
    "#exploring the tsp problem  output\n",
    "print (tsp_problem)\n",
    "print (states.keys())\n",
    "print (len(states.get('state')))\n"
   ]
  },
  {
   "cell_type": "markdown",
   "metadata": {},
   "source": [
    "## Graphing Function"
   ]
  },
  {
   "cell_type": "code",
   "execution_count": 169,
   "metadata": {},
   "outputs": [
    {
     "data": {
      "image/png": "[encoded data removed]",
      "text/plain": [
       "<Figure size 1080x216 with 3 Axes>"
      ]
     },
     "metadata": {
      "needs_background": "light"
     },
     "output_type": "display_data"
    }
   ],
   "source": [
    "# Helper function to plot\n",
    "def plot_results(states: dict = states, filename: str = 'default', title: str = 'default', show = True, save = True):\n",
    "    ''' Plots the results of search algoritm\n",
    "\n",
    "    Inputs:\n",
    "        state = final state\n",
    "        filename = filename to save as\n",
    "    '''\n",
    "    fig, ax = plt.subplots(nrows = 1, ncols = 3, figsize=(15,3))\n",
    "\n",
    "    # Preparing the data to subplots\n",
    "    x = states.get('step')\n",
    "    stats = {}\n",
    "    stats['starting score'] = (states.get('scor')[0]) #starting score\n",
    "    stats['best score'] = max(states.get('scor')) #min score\n",
    "    stats['final score'] = states.get('scor')[-1] #end score\n",
    "\n",
    "    #setting plots\n",
    "\n",
    "    ax[0].plot(x, states['prob'], linestyle = 'none', marker = 'o', color = 'blue', markersize = 1.5, alpha = 0.2)\n",
    "    ax[0].plot(x, list(map(lambda temp: temp / 100, states['temp'])), color = 'darkred', alpha = 0.8)\n",
    "\n",
    "    ax[1].set_ylim(0,1000)\n",
    "    ax[1].plot(x, states['scor'], linestyle = 'solid', color = 'green', alpha = 0.5)\n",
    "\n",
    "    ax[2].set_ylim(0,1000)\n",
    "    ax[2].bar(stats.keys(), stats.values(), color = 'black')\n",
    "\n",
    "\n",
    "    # ax[1].scatter(x, states['scor'])\n",
    "\n",
    "    # Title\n",
    "    plt.suptitle(f'{title}')\n",
    "    if save:\n",
    "        plt.savefig('img/' + filename)\n",
    "    if show:\n",
    "        plt.show()\n",
    "    plt.close()\n",
    "\n",
    "\"\"\"\n",
    "Debugging and Testing\n",
    "\"\"\"\n",
    "plot_results(states, filename = 'test1', title = 'hello', show = True)"
   ]
  },
  {
   "cell_type": "markdown",
   "metadata": {},
   "source": [
    "# Exercise\n",
    "\n",
    "## Exploring hyperparameters\n",
    "\n",
    "For hyperparameter exploration, the interaction of 3 hyperparameters are explored:\n",
    "1. Step Range: the total number of steps in the simulation\n",
    "2. Decay Power: the rate of temperature decay, expressed as a N-power curve\n",
    "3. Number of Swops: the number of pair-swops per 'next' function.\n"
   ]
  },
  {
   "cell_type": "code",
   "execution_count": 170,
   "metadata": {},
   "outputs": [
    {
     "name": "stdout",
     "output_type": "stream",
     "text": [
      "swops:1, decay_power:0.1, steps: 100 | best_v_final_score: 83, 32\n",
      "swops:1, decay_power:1, steps: 100 | best_v_final_score: 73, 66\n",
      "swops:1, decay_power:10, steps: 100 | best_v_final_score: 73, 73\n",
      "swops:1, decay_power:100, steps: 100 | best_v_final_score: 73, 73\n",
      "swops:1, decay_power:0.1, steps: 1000 | best_v_final_score: 75, 75\n",
      "swops:1, decay_power:1, steps: 1000 | best_v_final_score: 99, 95\n",
      "swops:1, decay_power:10, steps: 1000 | best_v_final_score: 78, 70\n",
      "swops:1, decay_power:100, steps: 1000 | best_v_final_score: 116, 116\n",
      "swops:1, decay_power:0.1, steps: 10000 | best_v_final_score: 137, 0\n",
      "swops:1, decay_power:1, steps: 10000 | best_v_final_score: 158, 69\n",
      "swops:1, decay_power:10, steps: 10000 | best_v_final_score: 338, 338\n",
      "swops:1, decay_power:100, steps: 10000 | best_v_final_score: 328, 328\n",
      "swops:1, decay_power:0.1, steps: 100000 | best_v_final_score: 163, 44\n",
      "swops:1, decay_power:1, steps: 100000 | best_v_final_score: 329, 329\n",
      "swops:1, decay_power:10, steps: 100000 | best_v_final_score: 798, 798\n",
      "swops:1, decay_power:100, steps: 100000 | best_v_final_score: 731, 731\n",
      "swops:10, decay_power:0.1, steps: 100 | best_v_final_score: 72, 6\n",
      "swops:10, decay_power:1, steps: 100 | best_v_final_score: 73, 70\n",
      "swops:10, decay_power:10, steps: 100 | best_v_final_score: 68, 62\n",
      "swops:10, decay_power:100, steps: 100 | best_v_final_score: 106, 106\n",
      "swops:10, decay_power:0.1, steps: 1000 | best_v_final_score: 108, 20\n",
      "swops:10, decay_power:1, steps: 1000 | best_v_final_score: 142, 142\n",
      "swops:10, decay_power:10, steps: 1000 | best_v_final_score: 169, 169\n",
      "swops:10, decay_power:100, steps: 1000 | best_v_final_score: 147, 147\n",
      "swops:10, decay_power:0.1, steps: 10000 | best_v_final_score: 168, 35\n",
      "swops:10, decay_power:1, steps: 10000 | best_v_final_score: 236, 236\n",
      "swops:10, decay_power:10, steps: 10000 | best_v_final_score: 341, 341\n",
      "swops:10, decay_power:100, steps: 10000 | best_v_final_score: 319, 319\n",
      "swops:10, decay_power:0.1, steps: 100000 | best_v_final_score: 184, 104\n",
      "swops:10, decay_power:1, steps: 100000 | best_v_final_score: 288, 288\n",
      "swops:10, decay_power:10, steps: 100000 | best_v_final_score: 436, 436\n",
      "swops:10, decay_power:100, steps: 100000 | best_v_final_score: 496, 496\n",
      "swops:100, decay_power:0.1, steps: 100 | best_v_final_score: 80, 23\n",
      "swops:100, decay_power:1, steps: 100 | best_v_final_score: 84, 76\n",
      "swops:100, decay_power:10, steps: 100 | best_v_final_score: 114, 114\n",
      "swops:100, decay_power:100, steps: 100 | best_v_final_score: 156, 156\n",
      "swops:100, decay_power:0.1, steps: 1000 | best_v_final_score: 154, 31\n",
      "swops:100, decay_power:1, steps: 1000 | best_v_final_score: 133, 130\n",
      "swops:100, decay_power:10, steps: 1000 | best_v_final_score: 182, 182\n",
      "swops:100, decay_power:100, steps: 1000 | best_v_final_score: 152, 152\n",
      "swops:100, decay_power:0.1, steps: 10000 | best_v_final_score: 179, 121\n",
      "swops:100, decay_power:1, steps: 10000 | best_v_final_score: 178, 174\n",
      "swops:100, decay_power:10, steps: 10000 | best_v_final_score: 290, 290\n",
      "swops:100, decay_power:100, steps: 10000 | best_v_final_score: 299, 299\n",
      "swops:100, decay_power:0.1, steps: 100000 | best_v_final_score: 186, 48\n",
      "swops:100, decay_power:1, steps: 100000 | best_v_final_score: 237, 230\n",
      "swops:100, decay_power:10, steps: 100000 | best_v_final_score: 289, 289\n",
      "swops:100, decay_power:100, steps: 100000 | best_v_final_score: 345, 345\n"
     ]
    }
   ],
   "source": [
    "\n",
    "\"\"\"Defining Hyperparameters to Explore\"\"\"\n",
    "step_range = [100, 1000, 10000, 100000]\n",
    "decay_power = [0.1, 1, 10, 100]\n",
    "num_swops = [1, 10, 100]\n",
    "\n",
    "\"\"\"Setup experiment logging\"\"\"\n",
    "save_prefix = '2400'\n",
    "experiment_log = {} # store data in the format: {swopX : {a: [1,2,3], b: [1,2,3...],...}, swop : ....} where swop is num_swops and a, b, c are parameters in each run\n",
    "\n",
    "\"\"\"Run Experiment\"\"\"\n",
    "for swop in num_swops:\n",
    "    # Setting up model\n",
    "    tsp_problem = TSP(LOOKUP_GRAPH.nodes(), lookup_graph = LOOKUP_GRAPH, swops = swop)\n",
    "    # states = simulated_annealing_full(tsp_problem)\n",
    "    for steps in step_range:\n",
    "        for power in decay_power:\n",
    "            #run simulation\n",
    "            states = simulated_annealing_full(tsp_problem, sch_steps = steps, sch_power = power)\n",
    "\n",
    "            #extract data\n",
    "            filename = str(f'[{save_prefix}] graphs_swop{swop}_decay{power}_steps{steps}')\n",
    "            title = str(f'swops:{swop}, decay_power:{power}, steps: {steps} | best_v_final_score: {max(states.get(\"scor\"))}, {states.get(\"scor\")[-1]}')\n",
    "\n",
    "            #plot results\n",
    "            print(title)\n",
    "            plot_results(states = states, filename = filename.replace(\".\", \"pt\"), title = title.replace(\".\", \"pt\"), show = False, save = True)\n",
    "\n",
    "            # Log results\n",
    "            key = str(f'swop{swop}_decay{power}_steps{steps}')\n",
    "            experiment_log[key] = states\n"
   ]
  },
  {
   "cell_type": "markdown",
   "metadata": {},
   "source": [
    "## Generating Heatmaps"
   ]
  },
  {
   "cell_type": "code",
   "execution_count": 172,
   "metadata": {
    "scrolled": false
   },
   "outputs": [
    {
     "data": {
      "image/png": "[encoded data removed]",
      "text/plain": [
       "<Figure size 432x288 with 1 Axes>"
      ]
     },
     "metadata": {
      "needs_background": "light"
     },
     "output_type": "display_data"
    },
    {
     "data": {
      "image/png": "[encoded data removed]",
      "text/plain": [
       "<Figure size 432x288 with 1 Axes>"
      ]
     },
     "metadata": {
      "needs_background": "light"
     },
     "output_type": "display_data"
    },
    {
     "data": {
      "image/png": "[encoded data removed]",
      "text/plain": [
       "<Figure size 432x288 with 1 Axes>"
      ]
     },
     "metadata": {
      "needs_background": "light"
     },
     "output_type": "display_data"
    }
   ],
   "source": [
    "\n",
    "# Helper Function\n",
    "\n",
    "def plot_heatmap(experiments: dict, x_labels, y_labels, val_swop: int = 1, remap_ceiling: int = 1000, save = False, show = True, save_prefix = ''):\n",
    "\n",
    "    # Construct matrix\n",
    "    plot_matrix = []\n",
    "    val_swop = val_swop\n",
    "    for val_step in step_range:\n",
    "        plot_matrix.append([])\n",
    "        for val_decay in decay_power:\n",
    "            key = str(f'swop{val_swop}_decay{val_decay}_steps{val_step}')\n",
    "            plot_matrix[-1].append(max(experiments.get(key).get('scor'))) #get the best score\n",
    "\n",
    "    # normalize data to remap ceiling\n",
    "    for row in range(len(plot_matrix)):\n",
    "        plot_matrix[row] = list(map(lambda x: x/remap_ceiling, plot_matrix[row]))\n",
    "\n",
    "    # initialize plots\n",
    "    fig, ax = plt.subplots()\n",
    "    plt.imshow(plot_matrix, vmin = 0, vmax = 1)\n",
    "    # plt.imshow(plot_matrix, interpolation='nearest')\n",
    "\n",
    "    x_labels = [str(f'decay_power_{x}') for x in x_labels] # decay\n",
    "    y_labels = [str(f'simulation_steps_{y}') for y in y_labels] # steps\n",
    "\n",
    "    # Show all ticks and label them with resp list entries\n",
    "    ax.set_xticks(range(len(x_labels)), labels = x_labels)\n",
    "    ax.set_yticks(range(len(y_labels)), labels = y_labels)\n",
    "\n",
    "    # Rotate the tick labels and set their alignment\n",
    "    plt.setp(ax.get_xticklabels(),\n",
    "             rotation = 45,\n",
    "             ha='right',\n",
    "             rotation_mode = 'anchor')\n",
    "\n",
    "    #Loop over data dimensions and create text annotations\n",
    "    for i in range(len(y_labels)):\n",
    "        for j in range(len(x_labels)):\n",
    "            ax.text(j, i, plot_matrix[i][j], ha='center', va='center', color = 'white')\n",
    "\n",
    "    # Set titles\n",
    "    title = str(f'swops:{val_swop}')\n",
    "    ax.set_title(title)\n",
    "    save_name = str(f'[{save_prefix}] Heatmap-swop{val_swop}')\n",
    "\n",
    "    if save:\n",
    "        plt.savefig('img/' + save_name)\n",
    "\n",
    "    if show:\n",
    "        plt.show()\n",
    "\n",
    "    plt.close()\n",
    "\n",
    "# Generate heatmaps\n",
    "for num in num_swops:\n",
    "    plot_heatmap(experiment_log, x_labels = decay_power, y_labels = step_range, val_swop = num, remap_ceiling=1000, show = True, save = True, save_prefix=save_prefix)\n"
   ]
  },
  {
   "cell_type": "markdown",
   "metadata": {},
   "source": []
  },
  {
   "cell_type": "markdown",
   "metadata": {},
   "source": [
    "# Observations"
   ]
  },
  {
   "cell_type": "markdown",
   "metadata": {},
   "source": [
    "## Hyperparameter Behaviours\n",
    "\n",
    "\n",
    "![Report%20Graphics_PairSwops.jpeg](presentation/Report%20Graphics_PairSwops.jpeg)\n",
    "Within the experimental range\n",
    "- All pairswops of N=100 did worse than pairswops of N=1 or N=10. We believe this is because when the pairswap takes a larger % of the total graph nodes, the chances of a better score get worse. \n",
    "- Some pariswops of N=10 outperformed pairswops from N=1. This occured when the simulation steps were increased from 10 to 100. \n",
    "\n",
    "\n",
    "![SimSteps](presentation/Report%20Graphics_SimSteps.jpeg)\n",
    "\n",
    "Temperature Decay\n",
    "![SimSteps](presentation/Report%20Graphics_TempDecay.jpeg)\n",
    "\n",
    "## Hyperparameter Heatmap\n",
    "![Heatmap](presentation/StackedHeatmap3.jpg)"
   ]
  },
  {
   "cell_type": "code",
   "execution_count": null,
   "metadata": {},
   "outputs": [],
   "source": []
  },
  {
   "cell_type": "code",
   "execution_count": null,
   "metadata": {},
   "outputs": [],
   "source": []
  }
 ],
 "metadata": {
  "colab": {
   "collapsed_sections": [],
   "provenance": []
  },
  "kernelspec": {
   "display_name": "Python 3 (ipykernel)",
   "language": "python",
   "name": "python3"
  },
  "language_info": {
   "codemirror_mode": {
    "name": "ipython",
    "version": 3
   },
   "file_extension": ".py",
   "mimetype": "text/x-python",
   "name": "python",
   "nbconvert_exporter": "python",
   "pygments_lexer": "ipython3",
   "version": "3.9.12"
  },
  "vscode": {
   "interpreter": {
    "hash": "5007f4499bcaee34ce9b281c70ab2b9d51228caaf99744bd3f38d3829480270e"
   }
  }
 },
 "nbformat": 4,
 "nbformat_minor": 1
}
